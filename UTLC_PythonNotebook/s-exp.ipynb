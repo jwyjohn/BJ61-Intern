{
 "cells": [
  {
   "cell_type": "markdown",
   "metadata": {},
   "source": [
    "# Simple S-Exp Parser\n",
    "\n",
    "Grammar:\n",
    "- P -> id | E \n",
    "- L -> P | P L\n",
    "- E ->  (L)\n",
    "\n",
    "LL(1):\n",
    "- P -> id | E \n",
    "- L -> PL'\n",
    "- L' -> L | null\n",
    "- E ->  (L)\n"
   ]
  },
  {
   "cell_type": "code",
   "execution_count": 1,
   "metadata": {},
   "outputs": [],
   "source": [
    "class parser:\n",
    "    '''\n",
    "    # S-Exp Parser\n",
    "        Grammar:\n",
    "            P -> id | E \n",
    "            L -> P | P L\n",
    "            E -> (L)\n",
    "\n",
    "        LL(1):\n",
    "            P  -> id | E \n",
    "            L  -> PL'\n",
    "            L' -> L | null\n",
    "            E  -> (L)\n",
    "    '''\n",
    "\n",
    "    def lexer(s):\n",
    "        s = s.replace('\\n', ' ').replace('(', ' ( ').replace(')', ' ) ')\n",
    "        l = s.split()\n",
    "        ret = []\n",
    "        for c in l:\n",
    "            if c == '(':\n",
    "                ret.append(('(', None))\n",
    "            elif c == ')':\n",
    "                ret.append((')', None))\n",
    "            else:\n",
    "                ret.append(('id', c))\n",
    "        return ret\n",
    "\n",
    "    def __init__(self, s):\n",
    "        self.tokens = list(reversed(parser.lexer(s)))\n",
    "\n",
    "    def run(self):\n",
    "        return self.E()\n",
    "\n",
    "    def next(self):\n",
    "        self.tokens.pop()\n",
    "\n",
    "    def peek(self):\n",
    "        return self.tokens[-1]\n",
    "\n",
    "    def P(self):\n",
    "        token = self.peek()\n",
    "        if token[0] == 'id':\n",
    "            # print(\"P id={}\".format(token[1]))\n",
    "            self.next()\n",
    "            return token[1]\n",
    "        else:\n",
    "            ret = self.E()\n",
    "            return ret\n",
    "\n",
    "    def L(self):\n",
    "        token = self.peek()\n",
    "        ret = [self.P()]\n",
    "        ret += self.Lp()\n",
    "        return ret\n",
    "\n",
    "    def Lp(self):\n",
    "        token = self.peek()\n",
    "        if token[0] == 'id' or token[0] == '(':\n",
    "            ret = self.L()\n",
    "            return ret\n",
    "        else:\n",
    "            return []\n",
    "\n",
    "    def E(self):\n",
    "        token = self.peek()\n",
    "        assert token[0] == '('\n",
    "        self.next()\n",
    "        ret = self.L()\n",
    "        token = self.peek()\n",
    "        assert token[0] == ')'\n",
    "        self.next()\n",
    "        return ret\n"
   ]
  },
  {
   "cell_type": "code",
   "execution_count": 2,
   "metadata": {},
   "outputs": [
    {
     "data": {
      "text/plain": [
       "['define', 'z', ['λ', ['f'], ['λ', ['x'], 'x']]]"
      ]
     },
     "execution_count": 2,
     "metadata": {},
     "output_type": "execute_result"
    }
   ],
   "source": [
    "test_parser = parser(\"(define z (λ (f) (λ (x) x)))\")\n",
    "test_parser.run()"
   ]
  },
  {
   "cell_type": "code",
   "execution_count": 3,
   "metadata": {},
   "outputs": [
    {
     "data": {
      "text/plain": [
       "[['define', 'z', ['λ', ['f'], ['λ', ['x'], 'x']]],\n",
       " ['define',\n",
       "  's',\n",
       "  ['λ', ['n'], ['λ', ['f'], ['λ', ['x'], ['f', [['n', 'f'], 'x']]]]]],\n",
       " ['s', ['s', 'z']]]"
      ]
     },
     "execution_count": 3,
     "metadata": {},
     "output_type": "execute_result"
    }
   ],
   "source": [
    "prog01 = '''\n",
    "((define z\n",
    "       (λ (f)\n",
    "         (λ (x)\n",
    "           x)))\n",
    "     (define s\n",
    "       (λ (n)\n",
    "         (λ (f)\n",
    "           (λ (x)\n",
    "             (f ((n f) x))))))\n",
    "     (s (s z))))\n",
    "'''\n",
    "test_parser = parser(prog01)\n",
    "test_parser.run()"
   ]
  },
  {
   "cell_type": "code",
   "execution_count": null,
   "metadata": {},
   "outputs": [],
   "source": []
  }
 ],
 "metadata": {
  "interpreter": {
   "hash": "2800ef484bf58f0ec9aae3206b3716df6fed4dc18bd0c6467c6a9fb03f4935ea"
  },
  "kernelspec": {
   "display_name": "Python 3.9.7 ('pytorch')",
   "language": "python",
   "name": "python3"
  },
  "language_info": {
   "codemirror_mode": {
    "name": "ipython",
    "version": 3
   },
   "file_extension": ".py",
   "mimetype": "text/x-python",
   "name": "python",
   "nbconvert_exporter": "python",
   "pygments_lexer": "ipython3",
   "version": "3.9.7"
  },
  "orig_nbformat": 4
 },
 "nbformat": 4,
 "nbformat_minor": 2
}
