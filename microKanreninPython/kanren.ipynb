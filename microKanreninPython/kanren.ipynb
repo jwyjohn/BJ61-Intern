{
 "cells": [
  {
   "cell_type": "markdown",
   "metadata": {},
   "source": [
    "# coreKanren in Python\n"
   ]
  },
  {
   "cell_type": "code",
   "execution_count": 1,
   "metadata": {},
   "outputs": [],
   "source": [
    "from copy import deepcopy\n"
   ]
  },
  {
   "cell_type": "code",
   "execution_count": 2,
   "metadata": {},
   "outputs": [],
   "source": [
    "def var(name):\n",
    "    return ('_var', name)\n",
    "\n",
    "def nvar(v):\n",
    "    assert(v[0] == '_var')\n",
    "    return v[1]\n",
    "\n",
    "def is_var(v):\n",
    "    try:\n",
    "        return v[0] == '_var'\n",
    "    except:\n",
    "        return False\n"
   ]
  },
  {
   "cell_type": "code",
   "execution_count": 3,
   "metadata": {},
   "outputs": [],
   "source": [
    "def assoc(lhs, rhs):\n",
    "    return ('_assoc', lhs, rhs)\n",
    "\n",
    "def lhs(asso):\n",
    "    assert(asso[0] == '_assoc')\n",
    "    return asso[1]\n",
    "\n",
    "\n",
    "def rhs(asso):\n",
    "    assert(asso[0] == '_assoc')\n",
    "    return asso[2]\n"
   ]
  },
  {
   "cell_type": "code",
   "execution_count": 4,
   "metadata": {},
   "outputs": [],
   "source": [
    "def subs(assocl):\n",
    "    for i in assocl:\n",
    "        assert(i[0] == '_assoc')\n",
    "    return ('_s', assocl)\n"
   ]
  },
  {
   "cell_type": "code",
   "execution_count": 5,
   "metadata": {},
   "outputs": [],
   "source": [
    "def assq(v, s):\n",
    "    assert(s[0] == '_s')\n",
    "    assocl = s[1]\n",
    "    for a in assocl:\n",
    "        if nvar(lhs(a)) == nvar(v):\n",
    "            return a\n",
    "    return None\n"
   ]
  },
  {
   "cell_type": "code",
   "execution_count": 6,
   "metadata": {},
   "outputs": [],
   "source": [
    "def walk(v, s, debug=False):\n",
    "    walked = set()\n",
    "    def _walk(v, s):\n",
    "        assert(s[0] == '_s')\n",
    "        assert(not str(v) in walked), \"Cyclic Walk\"\n",
    "        walked.add(str(v))\n",
    "        ret = None\n",
    "        if is_var(v):\n",
    "            a = assq(v, s)\n",
    "            if a != None:\n",
    "                ret = _walk(rhs(a), s)\n",
    "            else:\n",
    "                ret = v\n",
    "        else:\n",
    "            ret = v\n",
    "        if (debug):\n",
    "            print(\"WALK\", v, s, \"=>\", ret)\n",
    "        return ret\n",
    "    return _walk(v, s)"
   ]
  },
  {
   "cell_type": "code",
   "execution_count": 7,
   "metadata": {},
   "outputs": [
    {
     "name": "stdout",
     "output_type": "stream",
     "text": [
      "WALK [('_var', 'x'), 'e', ('_var', 'x')] ('_s', [('_assoc', ('_var', 'x'), 'b'), ('_assoc', ('_var', 'w'), [('_var', 'x'), 'e', ('_var', 'x')]), ('_assoc', ('_var', 'u'), ('_var', 'w'))]) => [('_var', 'x'), 'e', ('_var', 'x')]\n",
      "WALK ('_var', 'w') ('_s', [('_assoc', ('_var', 'x'), 'b'), ('_assoc', ('_var', 'w'), [('_var', 'x'), 'e', ('_var', 'x')]), ('_assoc', ('_var', 'u'), ('_var', 'w'))]) => [('_var', 'x'), 'e', ('_var', 'x')]\n",
      "WALK ('_var', 'u') ('_s', [('_assoc', ('_var', 'x'), 'b'), ('_assoc', ('_var', 'w'), [('_var', 'x'), 'e', ('_var', 'x')]), ('_assoc', ('_var', 'u'), ('_var', 'w'))]) => [('_var', 'x'), 'e', ('_var', 'x')]\n"
     ]
    },
    {
     "data": {
      "text/plain": [
       "[('_var', 'x'), 'e', ('_var', 'x')]"
      ]
     },
     "execution_count": 7,
     "metadata": {},
     "output_type": "execute_result"
    }
   ],
   "source": [
    "# (walk u ( (x . b) (w . (x e x)) (u . w) )\n",
    "\n",
    "test_s = subs([assoc(var('x'), 'b'), assoc(var('w'), [var('x'), 'e', var('x')]), assoc(var('u'), var('w'))])\n",
    "walk(var('u'), test_s, debug=True)"
   ]
  },
  {
   "cell_type": "code",
   "execution_count": 8,
   "metadata": {},
   "outputs": [],
   "source": [
    "def ext_s(x, v, s):\n",
    "    assert(s[0] == '_s')\n",
    "    assert(x[0] == '_var')\n",
    "    a = assoc(x, v)\n",
    "    assocl = s[1] + [a]\n",
    "    return subs(assocl)\n"
   ]
  },
  {
   "cell_type": "code",
   "execution_count": 9,
   "metadata": {},
   "outputs": [
    {
     "ename": "AssertionError",
     "evalue": "Cyclic Walk",
     "output_type": "error",
     "traceback": [
      "\u001b[1;31m---------------------------------------------------------------------------\u001b[0m",
      "\u001b[1;31mAssertionError\u001b[0m                            Traceback (most recent call last)",
      "\u001b[1;32m~\\AppData\\Local\\Temp/ipykernel_14756/2796862213.py\u001b[0m in \u001b[0;36m<module>\u001b[1;34m\u001b[0m\n\u001b[0;32m      2\u001b[0m test_s = ext_s(var('x'), var('y'), subs(\n\u001b[0;32m      3\u001b[0m     [assoc(var('z'), var('x')), assoc(var('y'), var('z'))]))\n\u001b[1;32m----> 4\u001b[1;33m \u001b[0mwalk\u001b[0m\u001b[1;33m(\u001b[0m\u001b[0mvar\u001b[0m\u001b[1;33m(\u001b[0m\u001b[1;34m'x'\u001b[0m\u001b[1;33m)\u001b[0m\u001b[1;33m,\u001b[0m \u001b[0mtest_s\u001b[0m\u001b[1;33m,\u001b[0m \u001b[0mdebug\u001b[0m \u001b[1;33m=\u001b[0m \u001b[1;32mTrue\u001b[0m\u001b[1;33m)\u001b[0m\u001b[1;33m\u001b[0m\u001b[1;33m\u001b[0m\u001b[0m\n\u001b[0m",
      "\u001b[1;32m~\\AppData\\Local\\Temp/ipykernel_14756/725448258.py\u001b[0m in \u001b[0;36mwalk\u001b[1;34m(v, s, debug)\u001b[0m\n\u001b[0;32m     17\u001b[0m             \u001b[0mprint\u001b[0m\u001b[1;33m(\u001b[0m\u001b[1;34m\"WALK\"\u001b[0m\u001b[1;33m,\u001b[0m \u001b[0mv\u001b[0m\u001b[1;33m,\u001b[0m \u001b[0ms\u001b[0m\u001b[1;33m,\u001b[0m \u001b[1;34m\"=>\"\u001b[0m\u001b[1;33m,\u001b[0m \u001b[0mret\u001b[0m\u001b[1;33m)\u001b[0m\u001b[1;33m\u001b[0m\u001b[1;33m\u001b[0m\u001b[0m\n\u001b[0;32m     18\u001b[0m         \u001b[1;32mreturn\u001b[0m \u001b[0mret\u001b[0m\u001b[1;33m\u001b[0m\u001b[1;33m\u001b[0m\u001b[0m\n\u001b[1;32m---> 19\u001b[1;33m     \u001b[1;32mreturn\u001b[0m \u001b[0m_walk\u001b[0m\u001b[1;33m(\u001b[0m\u001b[0mv\u001b[0m\u001b[1;33m,\u001b[0m \u001b[0ms\u001b[0m\u001b[1;33m)\u001b[0m\u001b[1;33m\u001b[0m\u001b[1;33m\u001b[0m\u001b[0m\n\u001b[0m",
      "\u001b[1;32m~\\AppData\\Local\\Temp/ipykernel_14756/725448258.py\u001b[0m in \u001b[0;36m_walk\u001b[1;34m(v, s)\u001b[0m\n\u001b[0;32m      9\u001b[0m             \u001b[0ma\u001b[0m \u001b[1;33m=\u001b[0m \u001b[0massq\u001b[0m\u001b[1;33m(\u001b[0m\u001b[0mv\u001b[0m\u001b[1;33m,\u001b[0m \u001b[0ms\u001b[0m\u001b[1;33m)\u001b[0m\u001b[1;33m\u001b[0m\u001b[1;33m\u001b[0m\u001b[0m\n\u001b[0;32m     10\u001b[0m             \u001b[1;32mif\u001b[0m \u001b[0ma\u001b[0m \u001b[1;33m!=\u001b[0m \u001b[1;32mNone\u001b[0m\u001b[1;33m:\u001b[0m\u001b[1;33m\u001b[0m\u001b[1;33m\u001b[0m\u001b[0m\n\u001b[1;32m---> 11\u001b[1;33m                 \u001b[0mret\u001b[0m \u001b[1;33m=\u001b[0m \u001b[0m_walk\u001b[0m\u001b[1;33m(\u001b[0m\u001b[0mrhs\u001b[0m\u001b[1;33m(\u001b[0m\u001b[0ma\u001b[0m\u001b[1;33m)\u001b[0m\u001b[1;33m,\u001b[0m \u001b[0ms\u001b[0m\u001b[1;33m)\u001b[0m\u001b[1;33m\u001b[0m\u001b[1;33m\u001b[0m\u001b[0m\n\u001b[0m\u001b[0;32m     12\u001b[0m             \u001b[1;32melse\u001b[0m\u001b[1;33m:\u001b[0m\u001b[1;33m\u001b[0m\u001b[1;33m\u001b[0m\u001b[0m\n\u001b[0;32m     13\u001b[0m                 \u001b[0mret\u001b[0m \u001b[1;33m=\u001b[0m \u001b[0mv\u001b[0m\u001b[1;33m\u001b[0m\u001b[1;33m\u001b[0m\u001b[0m\n",
      "\u001b[1;32m~\\AppData\\Local\\Temp/ipykernel_14756/725448258.py\u001b[0m in \u001b[0;36m_walk\u001b[1;34m(v, s)\u001b[0m\n\u001b[0;32m      9\u001b[0m             \u001b[0ma\u001b[0m \u001b[1;33m=\u001b[0m \u001b[0massq\u001b[0m\u001b[1;33m(\u001b[0m\u001b[0mv\u001b[0m\u001b[1;33m,\u001b[0m \u001b[0ms\u001b[0m\u001b[1;33m)\u001b[0m\u001b[1;33m\u001b[0m\u001b[1;33m\u001b[0m\u001b[0m\n\u001b[0;32m     10\u001b[0m             \u001b[1;32mif\u001b[0m \u001b[0ma\u001b[0m \u001b[1;33m!=\u001b[0m \u001b[1;32mNone\u001b[0m\u001b[1;33m:\u001b[0m\u001b[1;33m\u001b[0m\u001b[1;33m\u001b[0m\u001b[0m\n\u001b[1;32m---> 11\u001b[1;33m                 \u001b[0mret\u001b[0m \u001b[1;33m=\u001b[0m \u001b[0m_walk\u001b[0m\u001b[1;33m(\u001b[0m\u001b[0mrhs\u001b[0m\u001b[1;33m(\u001b[0m\u001b[0ma\u001b[0m\u001b[1;33m)\u001b[0m\u001b[1;33m,\u001b[0m \u001b[0ms\u001b[0m\u001b[1;33m)\u001b[0m\u001b[1;33m\u001b[0m\u001b[1;33m\u001b[0m\u001b[0m\n\u001b[0m\u001b[0;32m     12\u001b[0m             \u001b[1;32melse\u001b[0m\u001b[1;33m:\u001b[0m\u001b[1;33m\u001b[0m\u001b[1;33m\u001b[0m\u001b[0m\n\u001b[0;32m     13\u001b[0m                 \u001b[0mret\u001b[0m \u001b[1;33m=\u001b[0m \u001b[0mv\u001b[0m\u001b[1;33m\u001b[0m\u001b[1;33m\u001b[0m\u001b[0m\n",
      "\u001b[1;32m~\\AppData\\Local\\Temp/ipykernel_14756/725448258.py\u001b[0m in \u001b[0;36m_walk\u001b[1;34m(v, s)\u001b[0m\n\u001b[0;32m      9\u001b[0m             \u001b[0ma\u001b[0m \u001b[1;33m=\u001b[0m \u001b[0massq\u001b[0m\u001b[1;33m(\u001b[0m\u001b[0mv\u001b[0m\u001b[1;33m,\u001b[0m \u001b[0ms\u001b[0m\u001b[1;33m)\u001b[0m\u001b[1;33m\u001b[0m\u001b[1;33m\u001b[0m\u001b[0m\n\u001b[0;32m     10\u001b[0m             \u001b[1;32mif\u001b[0m \u001b[0ma\u001b[0m \u001b[1;33m!=\u001b[0m \u001b[1;32mNone\u001b[0m\u001b[1;33m:\u001b[0m\u001b[1;33m\u001b[0m\u001b[1;33m\u001b[0m\u001b[0m\n\u001b[1;32m---> 11\u001b[1;33m                 \u001b[0mret\u001b[0m \u001b[1;33m=\u001b[0m \u001b[0m_walk\u001b[0m\u001b[1;33m(\u001b[0m\u001b[0mrhs\u001b[0m\u001b[1;33m(\u001b[0m\u001b[0ma\u001b[0m\u001b[1;33m)\u001b[0m\u001b[1;33m,\u001b[0m \u001b[0ms\u001b[0m\u001b[1;33m)\u001b[0m\u001b[1;33m\u001b[0m\u001b[1;33m\u001b[0m\u001b[0m\n\u001b[0m\u001b[0;32m     12\u001b[0m             \u001b[1;32melse\u001b[0m\u001b[1;33m:\u001b[0m\u001b[1;33m\u001b[0m\u001b[1;33m\u001b[0m\u001b[0m\n\u001b[0;32m     13\u001b[0m                 \u001b[0mret\u001b[0m \u001b[1;33m=\u001b[0m \u001b[0mv\u001b[0m\u001b[1;33m\u001b[0m\u001b[1;33m\u001b[0m\u001b[0m\n",
      "\u001b[1;32m~\\AppData\\Local\\Temp/ipykernel_14756/725448258.py\u001b[0m in \u001b[0;36m_walk\u001b[1;34m(v, s)\u001b[0m\n\u001b[0;32m      3\u001b[0m     \u001b[1;32mdef\u001b[0m \u001b[0m_walk\u001b[0m\u001b[1;33m(\u001b[0m\u001b[0mv\u001b[0m\u001b[1;33m,\u001b[0m \u001b[0ms\u001b[0m\u001b[1;33m)\u001b[0m\u001b[1;33m:\u001b[0m\u001b[1;33m\u001b[0m\u001b[1;33m\u001b[0m\u001b[0m\n\u001b[0;32m      4\u001b[0m         \u001b[1;32massert\u001b[0m\u001b[1;33m(\u001b[0m\u001b[0ms\u001b[0m\u001b[1;33m[\u001b[0m\u001b[1;36m0\u001b[0m\u001b[1;33m]\u001b[0m \u001b[1;33m==\u001b[0m \u001b[1;34m'_s'\u001b[0m\u001b[1;33m)\u001b[0m\u001b[1;33m\u001b[0m\u001b[1;33m\u001b[0m\u001b[0m\n\u001b[1;32m----> 5\u001b[1;33m         \u001b[1;32massert\u001b[0m\u001b[1;33m(\u001b[0m\u001b[1;32mnot\u001b[0m \u001b[0mstr\u001b[0m\u001b[1;33m(\u001b[0m\u001b[0mv\u001b[0m\u001b[1;33m)\u001b[0m \u001b[1;32min\u001b[0m \u001b[0mwalked\u001b[0m\u001b[1;33m)\u001b[0m\u001b[1;33m,\u001b[0m \u001b[1;34m\"Cyclic Walk\"\u001b[0m\u001b[1;33m\u001b[0m\u001b[1;33m\u001b[0m\u001b[0m\n\u001b[0m\u001b[0;32m      6\u001b[0m         \u001b[0mwalked\u001b[0m\u001b[1;33m.\u001b[0m\u001b[0madd\u001b[0m\u001b[1;33m(\u001b[0m\u001b[0mstr\u001b[0m\u001b[1;33m(\u001b[0m\u001b[0mv\u001b[0m\u001b[1;33m)\u001b[0m\u001b[1;33m)\u001b[0m\u001b[1;33m\u001b[0m\u001b[1;33m\u001b[0m\u001b[0m\n\u001b[0;32m      7\u001b[0m         \u001b[0mret\u001b[0m \u001b[1;33m=\u001b[0m \u001b[1;32mNone\u001b[0m\u001b[1;33m\u001b[0m\u001b[1;33m\u001b[0m\u001b[0m\n",
      "\u001b[1;31mAssertionError\u001b[0m: Cyclic Walk"
     ]
    }
   ],
   "source": [
    "# (walk x (ext-s x y ( (z . x) (y . z) )\n",
    "test_s = ext_s(var('x'), var('y'), subs(\n",
    "    [assoc(var('z'), var('x')), assoc(var('y'), var('z'))]))\n",
    "walk(var('x'), test_s, debug = True)\n"
   ]
  },
  {
   "cell_type": "code",
   "execution_count": 10,
   "metadata": {},
   "outputs": [],
   "source": [
    "def is_eq(a, b):\n",
    "    if type(a) != type(b):\n",
    "        return False\n",
    "    if type(a) == int:\n",
    "        return a == b\n",
    "    elif type(a) == str:\n",
    "        return a == b\n",
    "    elif len(a) != len(b):\n",
    "        return False\n",
    "    flag = True\n",
    "    for i in range(len(a)):\n",
    "        if is_eq(a[i], b[i]) == False:\n",
    "            flag = False\n",
    "    return flag"
   ]
  },
  {
   "cell_type": "code",
   "execution_count": 11,
   "metadata": {},
   "outputs": [
    {
     "data": {
      "text/plain": [
       "True"
      ]
     },
     "execution_count": 11,
     "metadata": {},
     "output_type": "execute_result"
    }
   ],
   "source": [
    "is_eq(subs([assoc(var('x'), 'b'), assoc(var('w'), [var('x'), 'e', var('x')]), assoc(var('u'), var('w'))]), subs([assoc(var('x'), 'b'), assoc(var('w'), [var('x'), 'e', var('x')]), assoc(var('u'), var('w'))]))"
   ]
  },
  {
   "cell_type": "code",
   "execution_count": 12,
   "metadata": {},
   "outputs": [
    {
     "data": {
      "text/plain": [
       "False"
      ]
     },
     "execution_count": 12,
     "metadata": {},
     "output_type": "execute_result"
    }
   ],
   "source": [
    "is_eq(ext_s(var('x'), var('y'), subs([assoc(var('z'), var('x')), assoc(var('y'), var('z'))])),subs([assoc(var('x'), 'b'), assoc(var('w'), [var('x'), 'e', var('x')]), assoc(var('u'), var('w'))]))"
   ]
  },
  {
   "cell_type": "code",
   "execution_count": 13,
   "metadata": {},
   "outputs": [],
   "source": [
    "def unify(v, w, s, debug=False):\n",
    "    v = walk(v, s)\n",
    "    w = walk(w, s)\n",
    "    ret = None\n",
    "    if is_eq(v, w):\n",
    "        ret = s\n",
    "    elif is_var(v):\n",
    "        ret = ext_s(v, w, s)\n",
    "    elif is_var(w):\n",
    "        ret = ext_s(w, v, s)\n",
    "    elif type(v) == list and type(w) == list:\n",
    "        tu = unify(v[0], w[0], s)\n",
    "        if tu != None:\n",
    "            ret = unify(v[1:], w[1:], tu)\n",
    "        else:\n",
    "            ret = None\n",
    "    else:\n",
    "        ret = None\n",
    "    if debug:\n",
    "        print(\"UNIFY\", v, w, s, \"=>\", ret)\n",
    "    return ret\n"
   ]
  },
  {
   "cell_type": "code",
   "execution_count": 14,
   "metadata": {},
   "outputs": [
    {
     "name": "stdout",
     "output_type": "stream",
     "text": [
      "('_s', [('_assoc', ('_var', 'x'), 5), ('_assoc', ('_var', 'y'), 3), ('_assoc', ('_var', 'z'), 'Hello')])\n"
     ]
    }
   ],
   "source": [
    "test_v = [[1, var('x'), 3], var('z')]\n",
    "test_w = [[1, 5, var('y')], \"Hello\"]\n",
    "print(unify(test_v, test_w, subs([])))"
   ]
  },
  {
   "cell_type": "code",
   "execution_count": 15,
   "metadata": {},
   "outputs": [],
   "source": [
    "def deep_walk(v, s, debug=False):\n",
    "    v = walk(v, s)\n",
    "    ret = None\n",
    "    if is_var(v):\n",
    "        ret = v\n",
    "    elif type(v) == list:\n",
    "        ret = []\n",
    "        for i in v:\n",
    "            ret.append(deep_walk(i, s))\n",
    "    else:\n",
    "        ret = v\n",
    "    if debug:\n",
    "        print(\"WALK*\", v, s, \"=>\", ret)\n",
    "    return ret"
   ]
  },
  {
   "cell_type": "code",
   "execution_count": 16,
   "metadata": {},
   "outputs": [
    {
     "name": "stdout",
     "output_type": "stream",
     "text": [
      "WALK* [('_var', 'x'), 'e', ('_var', 'x')] ('_s', [('_assoc', ('_var', 'x'), 'b'), ('_assoc', ('_var', 'w'), [('_var', 'x'), 'e', ('_var', 'x')]), ('_assoc', ('_var', 'u'), ('_var', 'w'))]) => ['b', 'e', 'b']\n"
     ]
    },
    {
     "data": {
      "text/plain": [
       "['b', 'e', 'b']"
      ]
     },
     "execution_count": 16,
     "metadata": {},
     "output_type": "execute_result"
    }
   ],
   "source": [
    "# (walk* u ( (x . b) (w . (x e x)) (u . w) )\n",
    "\n",
    "test_s = subs([assoc(var('x'), 'b'), assoc(var('w'), [var('x'), 'e', var('x')]), assoc(var('u'), var('w'))])\n",
    "deep_walk(var('u'), test_s, debug=True)"
   ]
  },
  {
   "cell_type": "code",
   "execution_count": 17,
   "metadata": {},
   "outputs": [],
   "source": [
    "def reify_name(n):\n",
    "    return \"_.{}\".format(n)\n",
    "\n",
    "\n",
    "def reify_s(v, s, debug=False):\n",
    "    v = walk(v, s)\n",
    "    ret = None\n",
    "    if is_var(v):\n",
    "        ret = ext_s(v, reify_name(len(s[1])), s)\n",
    "    elif type(v) == list:\n",
    "        if len(v) > 0:\n",
    "            ret = reify_s(v[1:], reify_s(v[0], s))\n",
    "        else:\n",
    "            ret = s\n",
    "    else:\n",
    "        ret = s\n",
    "    if debug:\n",
    "        print(\"REIFY-S\", v, s, \"=>\", ret)\n",
    "    return ret\n"
   ]
  },
  {
   "cell_type": "code",
   "execution_count": 18,
   "metadata": {},
   "outputs": [
    {
     "name": "stdout",
     "output_type": "stream",
     "text": [
      "REIFY-S [('_var', 'w'), ('_var', 'x'), ('_var', 'y')] ('_s', []) => ('_s', [('_assoc', ('_var', 'w'), '_.0'), ('_assoc', ('_var', 'x'), '_.1'), ('_assoc', ('_var', 'y'), '_.2')])\n",
      "REIFY-S ['_.0', '_.1', '_.2'] ('_s', []) => ('_s', [])\n"
     ]
    },
    {
     "data": {
      "text/plain": [
       "['_.0', '_.1', '_.2']"
      ]
     },
     "execution_count": 18,
     "metadata": {},
     "output_type": "execute_result"
    }
   ],
   "source": [
    "test_r = [var('w'), var('x'), var('y')]\n",
    "test_s = reify_s(test_r, subs([]), debug=True)\n",
    "test_r = deep_walk(test_r, test_s)\n",
    "test_s = reify_s(test_r, subs([]), debug=True)\n",
    "deep_walk(test_r, test_s)"
   ]
  },
  {
   "cell_type": "code",
   "execution_count": 19,
   "metadata": {},
   "outputs": [
    {
     "name": "stdout",
     "output_type": "stream",
     "text": [
      "REIFY-S [('_var', 'u'), [('_var', 'v'), [('_var', 'w'), ('_var', 'x')], ('_var', 'y')], ('_var', 'x')] ('_s', []) => ('_s', [('_assoc', ('_var', 'u'), '_.0'), ('_assoc', ('_var', 'v'), '_.1'), ('_assoc', ('_var', 'w'), '_.2'), ('_assoc', ('_var', 'x'), '_.3'), ('_assoc', ('_var', 'y'), '_.4')])\n"
     ]
    },
    {
     "data": {
      "text/plain": [
       "['_.0', ['_.1', ['_.2', '_.3'], '_.4'], '_.3']"
      ]
     },
     "execution_count": 19,
     "metadata": {},
     "output_type": "execute_result"
    }
   ],
   "source": [
    "test_r = [var('u'), [var('v'), [var('w'), var('x')], var('y')], var('x')]\n",
    "test_s = reify_s(test_r, subs([]), debug=True)\n",
    "deep_walk(test_r, test_s)"
   ]
  },
  {
   "cell_type": "code",
   "execution_count": 20,
   "metadata": {},
   "outputs": [
    {
     "name": "stdout",
     "output_type": "stream",
     "text": [
      "WALK* [('_var', 'z'), ('_var', 'w'), 'c', ('_var', 'w')] ('_s', [('_assoc', ('_var', 'y'), [('_var', 'z'), ('_var', 'w'), 'c', ('_var', 'w')]), ('_assoc', ('_var', 'x'), ('_var', 'y')), ('_assoc', ('_var', 'z'), 'a')]) => ['a', ('_var', 'w'), 'c', ('_var', 'w')]\n",
      "REIFY-S ['a', ('_var', 'w'), 'c', ('_var', 'w')] ('_s', []) => ('_s', [('_assoc', ('_var', 'w'), '_.0')])\n"
     ]
    },
    {
     "data": {
      "text/plain": [
       "['a', '_.0', 'c', '_.0']"
      ]
     },
     "execution_count": 20,
     "metadata": {},
     "output_type": "execute_result"
    }
   ],
   "source": [
    "test_s = subs([assoc(var('y'), [var('z'), var('w'), 'c', var('w')]), assoc(var('x'), var('y')), assoc(var('z'), 'a')])\n",
    "test_r = deep_walk(var('x'), test_s, debug=True)\n",
    "test_s1 = reify_s(test_r, subs([]), debug=True)\n",
    "deep_walk(test_r, test_s1)"
   ]
  },
  {
   "cell_type": "code",
   "execution_count": 21,
   "metadata": {},
   "outputs": [],
   "source": [
    "def reify(v, debug=False):\n",
    "    s = reify_s(v, subs([]), debug=debug)\n",
    "    ret = deep_walk(v, s)\n",
    "    if debug:\n",
    "        print(\"REIFY\", v, \"=>\", ret)\n",
    "    return ret"
   ]
  },
  {
   "cell_type": "code",
   "execution_count": 22,
   "metadata": {},
   "outputs": [
    {
     "data": {
      "text/plain": [
       "['a', '_.0', 'c', '_.0']"
      ]
     },
     "execution_count": 22,
     "metadata": {},
     "output_type": "execute_result"
    }
   ],
   "source": [
    "test_s = subs([assoc(var('y'), [var('z'), var('w'), 'c', var('w')]), assoc(var('x'), var('y')), assoc(var('z'), 'a')])\n",
    "reify(deep_walk(var('x'), test_s))"
   ]
  },
  {
   "cell_type": "code",
   "execution_count": 24,
   "metadata": {},
   "outputs": [],
   "source": [
    "def occurs_d(x, v, s, debug=False):\n",
    "    ret = None\n",
    "    v = walk(v, s, debug=debug)\n",
    "    if is_var(v):\n",
    "        ret = is_eq(v, x)\n",
    "    elif type(v) == list:\n",
    "        flag = False\n",
    "        for i in v:\n",
    "            if occurs_d(x, i, s, debug=debug):\n",
    "                flag = True\n",
    "                break\n",
    "        ret = flag\n",
    "    if debug:\n",
    "        print(\"OCCURS√\", x, v, s, \"=>\", ret)\n",
    "    return ret\n",
    "\n",
    "\n",
    "def ext_sd(x, v, s):\n",
    "    if occurs_d(x, v, s):\n",
    "        return None\n",
    "    else:\n",
    "        return ext_s(x, v, s)\n"
   ]
  },
  {
   "cell_type": "code",
   "execution_count": 25,
   "metadata": {},
   "outputs": [],
   "source": [
    "def unify_d(v, w, s, debug=False):\n",
    "    v = walk(v, s)\n",
    "    w = walk(w, s)\n",
    "    ret = None\n",
    "    if is_eq(v, w):\n",
    "        ret = s\n",
    "    elif is_var(v):\n",
    "        ret = ext_sd(v, w, s)\n",
    "    elif is_var(w):\n",
    "        ret = ext_sd(w, v, s)\n",
    "    elif type(v) == list and type(w) == list:\n",
    "        tu = unify_d(v[0], w[0], s)\n",
    "        if tu != None:\n",
    "            ret = unify_d(v[1:], w[1:], tu)\n",
    "        else:\n",
    "            ret = None\n",
    "    else:\n",
    "        ret = None\n",
    "    if debug:\n",
    "        print(\"UNIFY√\", v, w, s, \"=>\", ret)\n",
    "    return ret\n"
   ]
  },
  {
   "cell_type": "code",
   "execution_count": 26,
   "metadata": {},
   "outputs": [
    {
     "name": "stdout",
     "output_type": "stream",
     "text": [
      "('_s', [('_assoc', ('_var', 'x'), 5), ('_assoc', ('_var', 'y'), 3), ('_assoc', ('_var', 'z'), 'Hello')])\n"
     ]
    }
   ],
   "source": [
    "test_v = [[1, var('x'), 3], var('z')]\n",
    "test_w = [[1, 5, var('y')], \"Hello\"]\n",
    "print(unify_d(test_v, test_w, subs([])))"
   ]
  },
  {
   "cell_type": "code",
   "execution_count": null,
   "metadata": {},
   "outputs": [],
   "source": []
  }
 ],
 "metadata": {
  "interpreter": {
   "hash": "2800ef484bf58f0ec9aae3206b3716df6fed4dc18bd0c6467c6a9fb03f4935ea"
  },
  "kernelspec": {
   "display_name": "Python 3.9.7 ('pytorch')",
   "language": "python",
   "name": "python3"
  },
  "language_info": {
   "codemirror_mode": {
    "name": "ipython",
    "version": 3
   },
   "file_extension": ".py",
   "mimetype": "text/x-python",
   "name": "python",
   "nbconvert_exporter": "python",
   "pygments_lexer": "ipython3",
   "version": "3.9.7"
  },
  "orig_nbformat": 4
 },
 "nbformat": 4,
 "nbformat_minor": 2
}
